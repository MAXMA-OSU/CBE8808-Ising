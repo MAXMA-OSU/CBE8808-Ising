{
 "cells": [
  {
   "cell_type": "markdown",
   "id": "2ae1dcee",
   "metadata": {},
   "source": [
    "The Ising model is named after Ernst Ising, Ph.D. in Physics (1924) from the University of Hamburg under the supervision of Wilhelm Lenz. Ising solved the one-dimensional (1D) Ising model exactly to find no phase transition. He also provided arguments on why there would not be a phase transition in higher dimensions either. In 1936, Peierls argued that both 2D and 3D Ising models admit phase transitions.\n",
    "\n"
   ]
  },
  {
   "cell_type": "code",
   "execution_count": 1,
   "id": "2e529c7b",
   "metadata": {},
   "outputs": [],
   "source": [
    "import numpy as np\n",
    "from numpy.random import rand\n",
    "import matplotlib.pyplot as plt\n",
    "from scipy.sparse import spdiags,linalg,eye"
   ]
  },
  {
   "cell_type": "code",
   "execution_count": 2,
   "id": "3195e170",
   "metadata": {},
   "outputs": [],
   "source": [
    "#---------------------------PARAMETERS------------------------------------\n",
    "nt      = 20        #  Number of temperature points\n",
    "N       = 64        #  Size of the lattice, N x N\n",
    "B       = 0         #  Outside Field\n",
    "Tstart  = 1.5       #  T1\n",
    "Tend    = 4         #  T2\n",
    "eqSteps = 500       #  number of MC sweeps for equilibration\n",
    "mcSteps = 2000      #  number of MC sweeps for calculation\n",
    "\n",
    "#---------------------------VARIABLES-------------------------------------\n",
    "T       = np.linspace(Tstart, Tend, nt); \n",
    "E,M,C,X = np.zeros(nt), np.zeros(nt), np.zeros(nt), np.zeros(nt)\n",
    "n1, n2  = 1.0/(mcSteps*N*N), 1.0/(mcSteps*mcSteps*N*N) \n",
    "# divide by number of samples, and by system size to get intensive values "
   ]
  },
  {
   "cell_type": "code",
   "execution_count": 3,
   "id": "aa8cff8c",
   "metadata": {},
   "outputs": [],
   "source": [
    "#---------------------------Initial Grid------------------------------------\n",
    "def initialstate(N):   \n",
    "    ''' \n",
    "    Generates a random spin configuration for initial condition\n",
    "    '''\n",
    "    state = 2*np.random.randint(2, size=(N,N))-1\n",
    "    return state"
   ]
  },
  {
   "cell_type": "code",
   "execution_count": 4,
   "id": "48728095",
   "metadata": {},
   "outputs": [],
   "source": [
    "#---------------------------MC Steps------------------------------------\n",
    "def mcmove(config, beta):\n",
    "    '''\n",
    "    Monte Carlo move using Metropolis algorithm \n",
    "    '''\n",
    "    \n",
    "    for i in range(N):\n",
    "        for j in range(N):\n",
    "                a = np.random.randint(0, N)\n",
    "                b = np.random.randint(0, N)\n",
    "                s =  config[a, b]\n",
    "                nb = config[(a+1)%N,b] + config[a,(b+1)%N] + config[(a-1)%N,b] + config[a,(b-1)%N]\n",
    "                cost = 2*s*nb\n",
    "                \n",
    "                if cost < 0:\n",
    "                    s *= -1\n",
    "                elif rand() < np.exp(-cost*beta):\n",
    "                    s *= -1\n",
    "                config[a, b] = s\n",
    "    return config"
   ]
  },
  {
   "cell_type": "code",
   "execution_count": 5,
   "id": "fca7a2d3",
   "metadata": {},
   "outputs": [],
   "source": [
    "#---------------------------Calculators------------------------------------\n",
    "def calcEnergy(config):\n",
    "    '''\n",
    "    Energy of a given configuration\n",
    "    '''\n",
    "    energy = 0 \n",
    "    \n",
    "    for i in range(len(config)):\n",
    "        for j in range(len(config)):\n",
    "            S = config[i,j]\n",
    "            nb = config[(i+1)%N, j] + config[i,(j+1)%N] + config[(i-1)%N, j] + config[i,(j-1)%N]\n",
    "            h = -nb*S-B*nb\n",
    "            energy += h\n",
    "    return energy/2.  # to compensate for over-counting\n",
    "\n",
    "\n",
    "\n",
    "def calcMag(config):\n",
    "    '''\n",
    "    Magnetization of a given configuration\n",
    "    '''\n",
    "    mag = np.sum(config)\n",
    "    return mag"
   ]
  },
  {
   "cell_type": "code",
   "execution_count": 6,
   "id": "c8d0ef34",
   "metadata": {},
   "outputs": [
    {
     "data": {
      "text/plain": [
       "<matplotlib.legend.Legend at 0x1df76497c08>"
      ]
     },
     "execution_count": 6,
     "metadata": {},
     "output_type": "execute_result"
    },
    {
     "data": {
      "image/png": "[encoded data removed]",
      "text/plain": [
       "<Figure size 432x288 with 1 Axes>"
      ]
     },
     "metadata": {
      "needs_background": "light"
     },
     "output_type": "display_data"
    }
   ],
   "source": [
    "#---------------------------Eq test------------------------------------\n",
    "config = np.ones((N,N)) \n",
    "Ene = []\n",
    "Ttest = 4\n",
    "\n",
    "for i in range(100):                            \n",
    "                mcmove(config, 1/Ttest)       # Monte Carlo moves\n",
    "                Ene.append(calcEnergy(config)/N/N)\n",
    "                \n",
    "\n",
    "fig, ax = plt.subplots(1, 1)\n",
    "ax.plot(Ene, label=\"Energy\")\n",
    "ax.set_ylim(-1.2,0)\n",
    "plt.grid()\n",
    "plt.legend()\n"
   ]
  },
  {
   "cell_type": "code",
   "execution_count": null,
   "id": "c022cfea",
   "metadata": {},
   "outputs": [
    {
     "name": "stderr",
     "output_type": "stream",
     "text": [
      "D:\\software\\Conda\\envs\\pytorch\\lib\\site-packages\\ipykernel_launcher.py:18: RuntimeWarning: overflow encountered in long_scalars\n"
     ]
    }
   ],
   "source": [
    "#--------------------------------Simulation--------------------------------------\n",
    "for tt in range(nt):\n",
    "    config = initialstate(N)         # initialise\n",
    "\n",
    "    E1 = M1 = E2 = M2 = 0\n",
    "    iT=1.0/T[tt]; iT2=iT*iT\n",
    "    \n",
    "    for i in range(eqSteps):         # equilibrate\n",
    "        mcmove(config, iT)           # Monte Carlo moves\n",
    "\n",
    "    for i in range(mcSteps):\n",
    "        mcmove(config, iT)           \n",
    "        Ene = calcEnergy(config)     # calculate the energy\n",
    "        Mag = calcMag(config)        # calculate the magnetisation\n",
    "\n",
    "        E1 = E1 + Ene\n",
    "        M1 = M1 + Mag\n",
    "        M2 = M2 + Mag*Mag \n",
    "        E2 = E2 + Ene*Ene\n",
    "\n",
    "\n",
    "    # divide by number of sites and iteractions to obtain intensive values    \n",
    "    E[tt] = n1*E1\n",
    "    M[tt] = n1*M1\n",
    "    C[tt] = (n1*E2 - n2*E1*E1)*iT2\n",
    "    X[tt] = (n1*M2 - n2*M1*M1)*iT"
   ]
  },
  {
   "cell_type": "code",
   "execution_count": null,
   "id": "f35cf34a",
   "metadata": {},
   "outputs": [],
   "source": [
    "#--------------------------------Onsager Solution--------------------------------------\n",
    "Onsager_Tc = 2.269\n",
    "Ts_plot = np.linspace(Tstart, Tend, num=200)\n",
    "Onsager_Ms = np.zeros(len(Ts_plot))\n",
    "for i, T1 in enumerate(Ts_plot):\n",
    "    if T1 <= 2.269:\n",
    "        Onsager_Ms[i] = (1 - (np.sinh(2/T1))**(-4))**(1/8)\n",
    "plt.plot(Ts_plot, Onsager_Ms, '--', label='theoretical')\n",
    "plt.xlabel(\"Temperature (T)\", fontsize=10); \n",
    "plt.ylabel(\"Magnetization \", fontsize=10);   plt.axis('tight')\n",
    "plt.legend()\n",
    "plt.show()\n",
    "\n"
   ]
  },
  {
   "cell_type": "code",
   "execution_count": null,
   "id": "6bb0a5dc",
   "metadata": {},
   "outputs": [],
   "source": [
    "#--------------------------------Plotting--------------------------------------\n",
    "f = plt.figure(figsize=(18, 10)); \n",
    "\n",
    "sp =  f.add_subplot(2, 2, 1 )\n",
    "plt.scatter(T, E, s=50, marker='o', color='IndianRed',label='B field is {}'.format(B))\n",
    "plt.xlabel(\"Temperature (T)\", fontsize=10)\n",
    "plt.ylabel(\"Energy \", fontsize=10);         plt.axis('tight')\n",
    "plt.legend()\n",
    "\n",
    "sp =  f.add_subplot(2, 2, 2 )\n",
    "plt.scatter(T, abs(M), s=50, marker='o', color='RoyalBlue',label='B field is {}'.format(B))\n",
    "plt.plot(Ts_plot, Onsager_Ms, '--', color='Green',label='theoretical')\n",
    "plt.xlabel(\"Temperature (T)\", fontsize=10); \n",
    "plt.ylabel(\"Magnetization \", fontsize=10);   plt.axis('tight')\n",
    "plt.legend()\n",
    "\n",
    "sp =  f.add_subplot(2, 2, 3 )\n",
    "plt.scatter(T, C, s=50, marker='o', color='IndianRed',label='B field is {}'.format(B))\n",
    "plt.xlabel(\"Temperature (T)\", fontsize=10);  \n",
    "plt.ylabel(\"Specific Heat \", fontsize=10);   plt.axis('tight');   \n",
    "plt.legend()\n",
    "\n",
    "sp =  f.add_subplot(2, 2, 4 )\n",
    "plt.scatter(T, X, s=50, marker='o', color='RoyalBlue',label='B field is {}'.format(B))\n",
    "plt.xlabel(\"Temperature (T)\", fontsize=10); \n",
    "plt.ylabel(\"Susceptibility\", fontsize=10);   plt.axis('tight')\n",
    "plt.legend()\n",
    "\n",
    "plt.show()"
   ]
  },
  {
   "cell_type": "code",
   "execution_count": null,
   "id": "8ebad0dd",
   "metadata": {},
   "outputs": [],
   "source": [
    "%matplotlib inline\n",
    "# Simulating the Ising model\n",
    "\n",
    "\n",
    "class Ising():\n",
    "    ''' Simulating the Ising model '''    \n",
    "    \n",
    "    \n",
    "    ## monte carlo moves\n",
    "    def mcmove(self, config, N, beta):\n",
    "        ''' This is to execute the monte carlo moves using \n",
    "        Metropolis algorithm such that detailed\n",
    "        balance condition is satisified'''\n",
    "        for i in range(N):\n",
    "            for j in range(N):            \n",
    "                    a = np.random.randint(0, N)\n",
    "                    b = np.random.randint(0, N)\n",
    "                    s =  config[a, b]\n",
    "                    nb = config[(a+1)%N,b] + config[a,(b+1)%N] + config[(a-1)%N,b] + config[a,(b-1)%N]\n",
    "                    cost = 2*s*nb\n",
    "                    if cost < 0:\t\n",
    "                        s *= -1\n",
    "                    elif rand() < np.exp(-cost*beta):\n",
    "                        s *= -1\n",
    "                    config[a, b] = s\n",
    "        return config\n",
    "    \n",
    "\n",
    "    \n",
    "    def simulate(self):   \n",
    "        ''' This module simulates the Ising model'''\n",
    "        N, temp     = 64, 1        # Initialse the lattice\n",
    "        config = 2*np.random.randint(2, size=(N,N))-1\n",
    "        f = plt.figure(figsize=(15, 15), dpi=80);    \n",
    "        self.configPlot(f, config, 0, N, 1);\n",
    "        \n",
    "        msrmnt = 1001\n",
    "        for i in range(msrmnt):\n",
    "            self.mcmove(config, N, 1.0/temp)\n",
    "            if i == 1:       self.configPlot(f, config, i, N, 2);\n",
    "            if i == 4:       self.configPlot(f, config, i, N, 3);\n",
    "            if i == 32:      self.configPlot(f, config, i, N, 4);\n",
    "            if i == 100:     self.configPlot(f, config, i, N, 5);\n",
    "            if i == 1000:    self.configPlot(f, config, i, N, 6);\n",
    "                 \n",
    "                    \n",
    "    def configPlot(self, f, config, i, N, n_):\n",
    "        ''' This modules plts the configuration once passed to it along with time etc '''\n",
    "        X, Y = np.meshgrid(range(N), range(N))\n",
    "        sp =  f.add_subplot(3, 3, n_ )  \n",
    "        plt.setp(sp.get_yticklabels(), visible=False)\n",
    "        plt.setp(sp.get_xticklabels(), visible=False)      \n",
    "        plt.pcolormesh(X, Y, config, cmap=plt.cm.tab20)\n",
    "        plt.title('Time=%d'%i); plt.axis('tight')    \n",
    "\n",
    "    plt.show()"
   ]
  },
  {
   "cell_type": "code",
   "execution_count": null,
   "id": "cfaa6b25",
   "metadata": {},
   "outputs": [],
   "source": [
    "rm = Ising()\n",
    "rm.simulate()"
   ]
  }
 ],
 "metadata": {
  "kernelspec": {
   "display_name": "Python 3 (ipykernel)",
   "language": "python",
   "name": "python3"
  },
  "language_info": {
   "codemirror_mode": {
    "name": "ipython",
    "version": 3
   },
   "file_extension": ".py",
   "mimetype": "text/x-python",
   "name": "python",
   "nbconvert_exporter": "python",
   "pygments_lexer": "ipython3",
   "version": "3.7.11"
  }
 },
 "nbformat": 4,
 "nbformat_minor": 5
}
