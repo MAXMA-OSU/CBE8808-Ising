{
 "cells": [
  {
   "cell_type": "code",
   "execution_count": 1,
   "id": "dcf9f9e9",
   "metadata": {},
   "outputs": [],
   "source": [
    "import numpy as np\n",
    "from numpy.random import rand\n",
    "import matplotlib.pyplot as plt\n",
    "from scipy.sparse import spdiags,linalg,eye"
   ]
  },
  {
   "cell_type": "code",
   "execution_count": 2,
   "id": "d0151470",
   "metadata": {},
   "outputs": [],
   "source": [
    "def initialstate(N):   \n",
    "    ''' \n",
    "    Generates a random spin configuration for initial condition\n",
    "    '''\n",
    "    state = 2*np.random.randint(2, size=(N,N))-1\n",
    "    return state\n",
    "\n",
    "\n",
    "def mcmove(config, beta):\n",
    "    '''\n",
    "    Monte Carlo move using Metropolis algorithm \n",
    "    '''\n",
    "    \n",
    "    for i in range(N):\n",
    "        for j in range(N):\n",
    "                a = np.random.randint(0, N)\n",
    "                b = np.random.randint(0, N)\n",
    "                s =  config[a, b]\n",
    "                nb = config[(a+1)%N,b] + config[a,(b+1)%N] + config[(a-1)%N,b] + config[a,(b-1)%N]\n",
    "                cost = 2*s*nb\n",
    "                \n",
    "                if cost < 0:\n",
    "                    s *= -1\n",
    "                elif rand() < np.exp(-cost*beta):\n",
    "                    s *= -1\n",
    "                config[a, b] = s\n",
    "                \n",
    "    return config\n",
    "\n",
    "N = 10\n",
    "config  = initialstate(N)\n",
    "a = np.random.randint(0, N)\n",
    "b = np.random.randint(0, N)\n",
    "s =  config[a, b]\n",
    "nb = config[(a+1)%N,b] + config[a,(b+1)%N] + config[(a-1)%N,b] + config[a,(b-1)%N]"
   ]
  },
  {
   "cell_type": "code",
   "execution_count": 3,
   "id": "a59e5219",
   "metadata": {},
   "outputs": [],
   "source": [
    "N = 10\n",
    "config  = initialstate(N)\n",
    "a = np.random.randint(0, N)\n",
    "b = np.random.randint(0, N)\n",
    "s =  config[a, b]\n",
    "nb = config[(a+1)%N,b] + config[a,(b+1)%N] + config[(a-1)%N,b] + config[a,(b-1)%N]"
   ]
  },
  {
   "cell_type": "code",
   "execution_count": 4,
   "id": "cef2daa5",
   "metadata": {},
   "outputs": [
    {
     "name": "stdout",
     "output_type": "stream",
     "text": [
      "[[ 1  1 -1 -1  1  1  1  1  1 -1]\n",
      " [-1 -1 -1 -1  1  1 -1 -1 -1  1]\n",
      " [ 1 -1 -1  1  1  1  1 -1  1  1]\n",
      " [ 1  1 -1 -1 -1 -1 -1  1 -1 -1]\n",
      " [-1 -1 -1  1  1 -1  1 -1 -1  1]\n",
      " [-1  1 -1 -1 -1 -1 -1 -1 -1 -1]\n",
      " [-1  1 -1 -1 -1  1 -1  1  1 -1]\n",
      " [-1 -1 -1  1  1 -1 -1  1  1 -1]\n",
      " [-1  1  1 -1  1  1  1 -1  1  1]\n",
      " [-1 -1  1 -1  1  1 -1  1  1  1]]\n",
      "6 0\n",
      "-1\n",
      "-2\n"
     ]
    }
   ],
   "source": [
    "print(config)\n",
    "print(a,b)\n",
    "print(s)\n",
    "print(nb)"
   ]
  },
  {
   "cell_type": "code",
   "execution_count": 5,
   "id": "55ae72a8",
   "metadata": {},
   "outputs": [
    {
     "name": "stdout",
     "output_type": "stream",
     "text": [
      "[[-1  1 -1  1  1 -1 -1 -1  1 -1]\n",
      " [-1 -1  1  1 -1  1 -1  1  1  1]\n",
      " [-1 -1 -1 -1  1 -1  1  1  1  1]\n",
      " [-1 -1  1  1 -1 -1 -1 -1 -1  1]\n",
      " [-1  1 -1  1 -1 -1 -1  1 -1 -1]\n",
      " [ 1  1 -1 -1  1  1 -1 -1 -1  1]\n",
      " [ 1 -1  1 -1  1  1 -1  1  1 -1]\n",
      " [ 1 -1  1  1  1 -1  1  1  1 -1]\n",
      " [ 1 -1  1 -1  1  1  1 -1 -1 -1]\n",
      " [-1 -1  1 -1  1  1  1 -1  1  1]]\n"
     ]
    }
   ],
   "source": [
    "state = 2*np.random.randint(2, size=(N,N))-1\n",
    "print(state)"
   ]
  },
  {
   "cell_type": "code",
   "execution_count": null,
   "id": "14fc6fca",
   "metadata": {},
   "outputs": [],
   "source": []
  }
 ],
 "metadata": {
  "kernelspec": {
   "display_name": "Python 3 (ipykernel)",
   "language": "python",
   "name": "python3"
  },
  "language_info": {
   "codemirror_mode": {
    "name": "ipython",
    "version": 3
   },
   "file_extension": ".py",
   "mimetype": "text/x-python",
   "name": "python",
   "nbconvert_exporter": "python",
   "pygments_lexer": "ipython3",
   "version": "3.7.11"
  }
 },
 "nbformat": 4,
 "nbformat_minor": 5
}
